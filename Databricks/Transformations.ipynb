{
 "cells": [
  {
   "cell_type": "code",
   "execution_count": 0,
   "metadata": {
    "application/vnd.databricks.v1+cell": {
     "cellMetadata": {
      "byteLimit": 2048000,
      "rowLimit": 10000
     },
     "inputWidgets": {},
     "nuid": "535c8a4a-bc11-4bed-b07d-9b465c68b02b",
     "showTitle": false,
     "tableResultSettingsMap": {},
     "title": ""
    }
   },
   "outputs": [],
   "source": [
    "#import\n",
    "from pyspark.sql.functions import *\n",
    "import pandas as pd\n",
    "import numpy as np\n",
    "import re"
   ]
  },
  {
   "cell_type": "code",
   "execution_count": 0,
   "metadata": {
    "application/vnd.databricks.v1+cell": {
     "cellMetadata": {
      "byteLimit": 2048000,
      "rowLimit": 10000
     },
     "inputWidgets": {},
     "nuid": "f42c2d67-b035-42c5-97b6-ad4b7144f954",
     "showTitle": false,
     "tableResultSettingsMap": {},
     "title": ""
    }
   },
   "outputs": [],
   "source": [
    "#Step 1: Load Datasets\n",
    "sales_df = spark.read.csv(\"/FileStore/tables/sales.csv\", header=True)\n",
    "item_df = spark.read.csv(\"/FileStore/tables/item.csv\", header=True)\n",
    "promotion_df = spark.read.csv(\"/FileStore/tables/promotion.csv\", header=True)\n",
    "supermrkt_df = spark.read.csv(\"/FileStore/tables/supermarket.csv\", header=True)"
   ]
  },
  {
   "cell_type": "code",
   "execution_count": 0,
   "metadata": {
    "application/vnd.databricks.v1+cell": {
     "cellMetadata": {
      "byteLimit": 2048000,
      "rowLimit": 10000
     },
     "inputWidgets": {},
     "nuid": "ea2dde5e-e38a-4bee-b908-ca6fcf336c2c",
     "showTitle": false,
     "tableResultSettingsMap": {},
     "title": ""
    }
   },
   "outputs": [],
   "source": [
    "#Update Sales Data Type\n",
    "sales_df = sales_df.withColumn(\"amount\", sales_df.amount.cast(\"decimal(10,2))\"))"
   ]
  },
  {
   "cell_type": "code",
   "execution_count": 0,
   "metadata": {
    "application/vnd.databricks.v1+cell": {
     "cellMetadata": {
      "byteLimit": 2048000,
      "rowLimit": 10000
     },
     "inputWidgets": {},
     "nuid": "cfe70992-4588-49e2-a1a2-1bf213d303c8",
     "showTitle": false,
     "tableResultSettingsMap": {},
     "title": ""
    }
   },
   "outputs": [],
   "source": [
    "#Correct the column name - description\n",
    "item_df = item_df.withColumnRenamed(\"descrption\", \"description\")"
   ]
  },
  {
   "cell_type": "code",
   "execution_count": 0,
   "metadata": {
    "application/vnd.databricks.v1+cell": {
     "cellMetadata": {
      "byteLimit": 2048000,
      "rowLimit": 10000
     },
     "inputWidgets": {},
     "nuid": "ba82e853-f46a-4673-9cf4-956ceab8d1a6",
     "showTitle": false,
     "tableResultSettingsMap": {},
     "title": ""
    }
   },
   "outputs": [],
   "source": [
    "#Update Items Data Type - remove spaces\n",
    "from pyspark.sql import functions as F \n",
    "item_df = item_df.withColumn('description', F.trim(F.regexp_replace('description', r'\\s+', ' ')))"
   ]
  },
  {
   "cell_type": "code",
   "execution_count": 0,
   "metadata": {
    "application/vnd.databricks.v1+cell": {
     "cellMetadata": {
      "byteLimit": 2048000,
      "rowLimit": 10000
     },
     "inputWidgets": {},
     "nuid": "ecfb4d94-b7c7-4490-abf4-c810715754a7",
     "showTitle": false,
     "tableResultSettingsMap": {},
     "title": ""
    }
   },
   "outputs": [],
   "source": [
    "#item_df.filter(col('code') == '2409407009').display()"
   ]
  },
  {
   "cell_type": "code",
   "execution_count": 0,
   "metadata": {
    "application/vnd.databricks.v1+cell": {
     "cellMetadata": {
      "byteLimit": 2048000,
      "rowLimit": 10000
     },
     "inputWidgets": {},
     "nuid": "9ee70851-39bf-462f-bbf4-276d2d9e8486",
     "showTitle": false,
     "tableResultSettingsMap": {},
     "title": ""
    }
   },
   "outputs": [],
   "source": [
    "# 1. UDF to extract size\n",
    "def extract_size(text):\n",
    "    if not text:\n",
    "        return None\n",
    "    match = re.search(r'(\\d+(\\.\\d+)?\\s*(fl|oz|lb))', text.lower())\n",
    "    if match:\n",
    "        size = match.group(0)\n",
    "        size = re.sub(r'(\\d+)(fl|oz|lb)', r'\\1 \\2', size.replace(' ', '')).lower()\n",
    "        return size\n",
    "    return None\n",
    "\n",
    "extract_size_udf = udf(extract_size, StringType())\n"
   ]
  },
  {
   "cell_type": "code",
   "execution_count": 0,
   "metadata": {
    "application/vnd.databricks.v1+cell": {
     "cellMetadata": {
      "byteLimit": 2048000,
      "rowLimit": 10000
     },
     "inputWidgets": {},
     "nuid": "e6ea1009-a7a8-4651-a941-9379b65d4296",
     "showTitle": false,
     "tableResultSettingsMap": {},
     "title": ""
    }
   },
   "outputs": [],
   "source": [
    "# 2. UDF to check if existing size is valid\n",
    "def is_valid_size(size):\n",
    "    if not size:\n",
    "        return False\n",
    "    return bool(re.search(r'\\d+\\s*(fl|oz|lb)', size.lower()))\n",
    "\n",
    "is_valid_size_udf = udf(is_valid_size)\n"
   ]
  },
  {
   "cell_type": "code",
   "execution_count": 0,
   "metadata": {
    "application/vnd.databricks.v1+cell": {
     "cellMetadata": {
      "byteLimit": 2048000,
      "rowLimit": 10000
     },
     "inputWidgets": {},
     "nuid": "ff069be5-77bb-4ea1-8874-afcafd5b116d",
     "showTitle": false,
     "tableResultSettingsMap": {},
     "title": ""
    }
   },
   "outputs": [],
   "source": [
    "# 3. Update size column only if invalid\n",
    "item_df = item_df.withColumn(\n",
    "    \"size\",\n",
    "    when(~is_valid_size_udf(col(\"size\")), extract_size_udf(col(\"description\"))).otherwise(col(\"size\"))\n",
    ")"
   ]
  },
  {
   "cell_type": "code",
   "execution_count": 0,
   "metadata": {
    "application/vnd.databricks.v1+cell": {
     "cellMetadata": {
      "byteLimit": 2048000,
      "rowLimit": 10000
     },
     "inputWidgets": {},
     "nuid": "a27c02cf-528c-427c-8ffa-898ab247f2f7",
     "showTitle": false,
     "tableResultSettingsMap": {},
     "title": ""
    }
   },
   "outputs": [],
   "source": [
    "# 4. Remove size from description\n",
    "def remove_size(text):\n",
    "    if not text:\n",
    "        return None\n",
    "    return re.sub(r'\\d+(\\.\\d+)?\\s*(fl|oz|lb)', '', text, flags=re.IGNORECASE).strip()\n",
    "\n",
    "remove_size_udf = udf(remove_size, StringType())\n",
    "item_df = item_df.withColumn(\"description\", remove_size_udf(col(\"description\")))"
   ]
  },
  {
   "cell_type": "code",
   "execution_count": 0,
   "metadata": {
    "application/vnd.databricks.v1+cell": {
     "cellMetadata": {
      "byteLimit": 2048000,
      "rowLimit": 10000
     },
     "inputWidgets": {},
     "nuid": "54a4dd9a-63a8-457a-ae7a-d3433e2dd747",
     "showTitle": false,
     "tableResultSettingsMap": {},
     "title": ""
    }
   },
   "outputs": [],
   "source": [
    "#convert to lowercase of size and remove extra space\n",
    "item_df = item_df.withColumn(\n",
    "    \"size\",\n",
    "    lower(\n",
    "        trim(\n",
    "            regexp_replace(\n",
    "                col(\"size\"),\n",
    "                r\"[^0-9\\s\\.ozfllb]\", \"\",))))"
   ]
  },
  {
   "cell_type": "code",
   "execution_count": 0,
   "metadata": {
    "application/vnd.databricks.v1+cell": {
     "cellMetadata": {
      "byteLimit": 2048000,
      "rowLimit": 10000
     },
     "inputWidgets": {},
     "nuid": "12677438-a780-4e11-ba64-476c694884b8",
     "showTitle": false,
     "tableResultSettingsMap": {},
     "title": ""
    }
   },
   "outputs": [],
   "source": [
    "#item_df.display()"
   ]
  },
  {
   "cell_type": "code",
   "execution_count": 0,
   "metadata": {
    "application/vnd.databricks.v1+cell": {
     "cellMetadata": {
      "byteLimit": 2048000,
      "rowLimit": 10000
     },
     "inputWidgets": {},
     "nuid": "8e823fbf-82b1-494d-af99-72f0ee06a1f5",
     "showTitle": false,
     "tableResultSettingsMap": {},
     "title": ""
    }
   },
   "outputs": [],
   "source": [
    "#renaming column 'supermarkets' in promotion table as supermarket to match in sales table\n",
    "promotion_df = promotion_df.withColumnRenamed(\"supermarkets\", \"supermarket\")"
   ]
  }
 ],
 "metadata": {
  "application/vnd.databricks.v1+notebook": {
   "computePreferences": null,
   "dashboards": [],
   "environmentMetadata": {
    "base_environment": "",
    "environment_version": "3"
   },
   "inputWidgetPreferences": null,
   "language": "python",
   "notebookMetadata": {
    "pythonIndentUnit": 4
   },
   "notebookName": "Transformations",
   "widgets": {}
  },
  "language_info": {
   "name": "python"
  }
 },
 "nbformat": 4,
 "nbformat_minor": 0
}
